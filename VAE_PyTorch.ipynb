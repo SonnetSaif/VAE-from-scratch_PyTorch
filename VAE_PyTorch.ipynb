{
  "nbformat": 4,
  "nbformat_minor": 0,
  "metadata": {
    "colab": {
      "provenance": [],
      "gpuType": "T4",
      "authorship_tag": "ABX9TyOiJgV9XJxQAzTE+M2WmzIc",
      "include_colab_link": true
    },
    "kernelspec": {
      "name": "python3",
      "display_name": "Python 3"
    },
    "language_info": {
      "name": "python"
    },
    "accelerator": "GPU"
  },
  "cells": [
    {
      "cell_type": "markdown",
      "metadata": {
        "id": "view-in-github",
        "colab_type": "text"
      },
      "source": [
        "<a href=\"https://colab.research.google.com/github/SonnetSaif/VAE-from-scratch_PyTorch/blob/main/VAE_PyTorch.ipynb\" target=\"_parent\"><img src=\"https://colab.research.google.com/assets/colab-badge.svg\" alt=\"Open In Colab\"/></a>"
      ]
    },
    {
      "cell_type": "code",
      "execution_count": 6,
      "metadata": {
        "id": "96363ql4jxaE"
      },
      "outputs": [],
      "source": [
        "import torch\n",
        "import torch.nn as nn\n",
        "from tqdm import tqdm\n",
        "import torch.optim as optim\n",
        "import torch.nn.functional as F\n",
        "from torchvision import transforms\n",
        "import torchvision.datasets as datasets\n",
        "from torchvision.utils import save_image\n",
        "from torch.utils.data import DataLoader"
      ]
    },
    {
      "cell_type": "code",
      "source": [
        "device = \"cuda\" if torch.cuda.is_available() else \"cpu\"\n",
        "lr = 3e-4\n",
        "z_dim = 20\n",
        "h_dim = 200\n",
        "input_dim = 784\n",
        "batch_size = 128\n",
        "num_epochs = 20"
      ],
      "metadata": {
        "id": "6U4yTSiAzlCp"
      },
      "execution_count": 19,
      "outputs": []
    },
    {
      "cell_type": "code",
      "source": [
        "class VariationalAutoEncoder(nn.Module):\n",
        "  def __init__(self, input_dim, h_dim, z_dim):\n",
        "    super().__init__()\n",
        "\n",
        "    self.img_dim_to_h_dim = nn.Linear(input_dim, h_dim)\n",
        "    self.h_dim_to_mean = nn.Linear(h_dim, z_dim)\n",
        "    self.h_dim_to_deviation = nn.Linear(h_dim, z_dim)\n",
        "\n",
        "    self.z_dim_to_hid_dim = nn.Linear(z_dim, h_dim)\n",
        "    self.hid_dim_to_img_dim = nn.Linear(h_dim, input_dim)\n",
        "\n",
        "    self.ReLU = nn.ReLU()\n",
        "\n",
        "  def encoder(self, x):\n",
        "    h = self.ReLU(self.img_dim_to_h_dim(x))\n",
        "    mean = self.h_dim_to_mean(h)\n",
        "    deviation = self.h_dim_to_deviation(h)\n",
        "    return mean, deviation\n",
        "\n",
        "  def decoder(self, z):\n",
        "    h = self.ReLU(self.z_dim_to_hid_dim(z))\n",
        "    img = torch.sigmoid(self.hid_dim_to_img_dim(h))\n",
        "    return img\n",
        "\n",
        "  def forward(self, x):\n",
        "    mean, deviation = self.encoder(x)\n",
        "    z = mean + deviation * (torch.randn_like(deviation))\n",
        "    x_new = self.decoder(z)\n",
        "    return x_new, mean, deviation"
      ],
      "metadata": {
        "id": "wj-b5TWNndvC"
      },
      "execution_count": 20,
      "outputs": []
    },
    {
      "cell_type": "code",
      "source": [
        "transforms = transforms.Compose([\n",
        "    transforms.ToTensor()\n",
        "])\n",
        "dataset = datasets.MNIST(root='dataset/', train=True, transform=transforms, download=True)\n",
        "train_loader = DataLoader(dataset, batch_size=batch_size, shuffle=True)\n",
        "model = VariationalAutoEncoder(input_dim, h_dim, z_dim).to(device)\n",
        "optim = optim.Adam(model.parameters(), lr=lr)\n",
        "criterion = nn.BCELoss()"
      ],
      "metadata": {
        "id": "yky7XeWVBJ9g"
      },
      "execution_count": 21,
      "outputs": []
    },
    {
      "cell_type": "code",
      "source": [
        "# if __name__ == \"__main__\":\n",
        "#   x = torch.randn(4, 28*28)\n",
        "#   vae = VariationalAutoEncoder(input_dim, h_dim, z_dim)\n",
        "#   x_mod, mean, deviation = vae(x)"
      ],
      "metadata": {
        "id": "LsselPj-wNex"
      },
      "execution_count": null,
      "outputs": []
    },
    {
      "cell_type": "code",
      "source": [
        "for epoch in range(num_epochs):\n",
        "  model.train()\n",
        "  running_loss = 0.0\n",
        "  # loop = tqdm(enumerate(train_loader))\n",
        "  for idx, (img, _) in enumerate(train_loader):\n",
        "    batch_size = img.shape[0]\n",
        "    img = img.to(device).view(batch_size, input_dim)\n",
        "    img_mod, mean, deviation = model(img)\n",
        "\n",
        "    loss = criterion(img_mod, img)\n",
        "    kl_divergence = - torch.sum(1 + torch.log(deviation.pow(2)) - mean.pow(2) - deviation.pow(2))\n",
        "\n",
        "    loss = loss + kl_divergence\n",
        "    optim.zero_grad()\n",
        "    loss.backward()\n",
        "    optim.step()\n",
        "    running_loss += loss.item()\n",
        "\n",
        "    # if (idx + 1) % 10 == 0:\n",
        "    #         print(f\"Epoch [{epoch + 1}/{num_epochs}], Iteration [{idx + 1}/{len(train_loader)}], Loss: {loss.item():.4f}\")\n",
        "\n",
        "  print(f\"Epoch [{epoch + 1}/{num_epochs}], Loss: {running_loss / len(train_loader):.4f}\")\n"
      ],
      "metadata": {
        "id": "STRZjin9UsHZ",
        "colab": {
          "base_uri": "https://localhost:8080/"
        },
        "outputId": "53402270-54e3-44a9-e2d1-e08489724f0f"
      },
      "execution_count": 22,
      "outputs": [
        {
          "output_type": "stream",
          "name": "stdout",
          "text": [
            "Epoch [1/20], Loss: 1862.3969\n",
            "Epoch [2/20], Loss: 343.8366\n",
            "Epoch [3/20], Loss: 246.7746\n",
            "Epoch [4/20], Loss: 163.0211\n",
            "Epoch [5/20], Loss: 88.2698\n",
            "Epoch [6/20], Loss: 38.2365\n",
            "Epoch [7/20], Loss: 14.9988\n",
            "Epoch [8/20], Loss: 7.6251\n",
            "Epoch [9/20], Loss: 5.1603\n",
            "Epoch [10/20], Loss: 3.9766\n",
            "Epoch [11/20], Loss: 3.2346\n",
            "Epoch [12/20], Loss: 2.7067\n",
            "Epoch [13/20], Loss: 2.2946\n",
            "Epoch [14/20], Loss: 1.9640\n",
            "Epoch [15/20], Loss: 1.6810\n",
            "Epoch [16/20], Loss: 1.4466\n",
            "Epoch [17/20], Loss: 1.2532\n",
            "Epoch [18/20], Loss: 1.0687\n",
            "Epoch [19/20], Loss: 0.9285\n",
            "Epoch [20/20], Loss: 0.7886\n"
          ]
        }
      ]
    },
    {
      "cell_type": "code",
      "source": [
        "model = model.to(\"cpu\")\n",
        "def inference(digit, num_examples):\n",
        "  images = []\n",
        "  counter = 0\n",
        "  # taking digits from dataset\n",
        "  for i,j in dataset:\n",
        "    if j == counter:\n",
        "      images.append(i)\n",
        "      counter += 1\n",
        "    if counter == 10:\n",
        "      break\n",
        "\n",
        "  # calculating mu, sigma through encoder for those digits from dataset\n",
        "  encoding_digit = []\n",
        "  for idx in range(10):\n",
        "    with torch.no_grad():\n",
        "      mean, deviation = model.encoder(images[idx].view(1, 784))\n",
        "    encoding_digit.append((mean, deviation))\n",
        "\n",
        "  # generating new digit through decoder from mu, sigma and epsilon\n",
        "  mean, deviation = encoding_digit[digit]\n",
        "  for idx in range(num_examples):\n",
        "    z = mean + deviation * (torch.randn_like(deviation))\n",
        "    x_new = model.decoder(z)\n",
        "    x_new = x_new.view(-1, 1, 28, 28)\n",
        "    save_image(x_new, f\"generated_{digit}_ex{idx}.png\")"
      ],
      "metadata": {
        "id": "wFb3G46JM2Fn"
      },
      "execution_count": 23,
      "outputs": []
    },
    {
      "cell_type": "code",
      "source": [
        "for idx in range(5):\n",
        "  inference(idx, 5)"
      ],
      "metadata": {
        "id": "KPhTTaF_SZSQ"
      },
      "execution_count": 26,
      "outputs": []
    },
    {
      "cell_type": "code",
      "source": [],
      "metadata": {
        "id": "NAWxgSzBUb41"
      },
      "execution_count": null,
      "outputs": []
    }
  ]
}