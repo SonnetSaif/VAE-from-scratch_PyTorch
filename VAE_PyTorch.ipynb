{
  "nbformat": 4,
  "nbformat_minor": 0,
  "metadata": {
    "colab": {
      "provenance": [],
      "authorship_tag": "ABX9TyPMdCioKMgJdRa251wosbVy",
      "include_colab_link": true
    },
    "kernelspec": {
      "name": "python3",
      "display_name": "Python 3"
    },
    "language_info": {
      "name": "python"
    }
  },
  "cells": [
    {
      "cell_type": "markdown",
      "metadata": {
        "id": "view-in-github",
        "colab_type": "text"
      },
      "source": [
        "<a href=\"https://colab.research.google.com/github/SonnetSaif/VAE-from-scratch_PyTorch/blob/main/VAE_PyTorch.ipynb\" target=\"_parent\"><img src=\"https://colab.research.google.com/assets/colab-badge.svg\" alt=\"Open In Colab\"/></a>"
      ]
    },
    {
      "cell_type": "code",
      "execution_count": 15,
      "metadata": {
        "id": "96363ql4jxaE"
      },
      "outputs": [],
      "source": [
        "import torch\n",
        "from torch import nn\n",
        "import torch.nn.functional as F"
      ]
    },
    {
      "cell_type": "code",
      "source": [
        "input_dim = 784\n",
        "h_dim = 200\n",
        "z_dim = 20"
      ],
      "metadata": {
        "id": "6U4yTSiAzlCp"
      },
      "execution_count": 16,
      "outputs": []
    },
    {
      "cell_type": "code",
      "source": [
        "class VariationalAutoEncoder(nn.Module):\n",
        "  def __init__(self, input_dim, h_dim, z_dim):\n",
        "    super().__init__()\n",
        "\n",
        "    self.img_dim_to_h_dim = nn.Linear(input_dim, h_dim)\n",
        "    self.h_dim_to_mean = nn.Linear(h_dim, z_dim)\n",
        "    self.h_dim_to_deviation = nn.Linear(h_dim, z_dim)\n",
        "\n",
        "    self.z_dim_to_hid_dim = nn.Linear(z_dim, h_dim)\n",
        "    self.hid_dim_to_img_dim = nn.Linear(h_dim, input_dim)\n",
        "\n",
        "    self.relu = nn.ReLU()\n",
        "\n",
        "  def encoder(self, x):\n",
        "    h = self.ReLU(self.img_dim_to_h_dim(x))\n",
        "    mean = self.h_dim_to_mean(h)\n",
        "    deviation = self.h_dim_to_deviation(h)\n",
        "    return mean, deviation\n",
        "\n",
        "  def decoder(self, z):\n",
        "    h = self.ReLU(self.z_dim_to_hid_dim(z))\n",
        "    img = self.hid_dim_to_img_dim(z)\n",
        "    return img\n",
        "\n",
        "  def forward(self, x):\n",
        "    mean, deviation = self.encoder(x)\n",
        "    z = mean + deviation * (torch.randn_like(deviation))\n",
        "    x = self.decoder(z)\n",
        "    return mean, deviation, z"
      ],
      "metadata": {
        "id": "wj-b5TWNndvC"
      },
      "execution_count": 17,
      "outputs": []
    },
    {
      "cell_type": "code",
      "source": [
        "if __name__ == \"__main__\":\n",
        "  input = torch.randn(4, 28*28)\n",
        "  vae = VariationalAutoEncoder(input_dim, h_dim, z_dim)\n",
        "  input_mod, mean, deviation = vae(input)"
      ],
      "metadata": {
        "id": "LsselPj-wNex"
      },
      "execution_count": null,
      "outputs": []
    },
    {
      "cell_type": "code",
      "source": [],
      "metadata": {
        "id": "dHXMgd5IzfJE"
      },
      "execution_count": null,
      "outputs": []
    }
  ]
}