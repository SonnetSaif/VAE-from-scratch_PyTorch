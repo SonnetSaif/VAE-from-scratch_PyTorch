{
  "nbformat": 4,
  "nbformat_minor": 0,
  "metadata": {
    "colab": {
      "provenance": [],
      "authorship_tag": "ABX9TyMtcfEfoBTOUz9tooOC9b5j",
      "include_colab_link": true
    },
    "kernelspec": {
      "name": "python3",
      "display_name": "Python 3"
    },
    "language_info": {
      "name": "python"
    }
  },
  "cells": [
    {
      "cell_type": "markdown",
      "metadata": {
        "id": "view-in-github",
        "colab_type": "text"
      },
      "source": [
        "<a href=\"https://colab.research.google.com/github/SonnetSaif/VAE-from-scratch_PyTorch/blob/main/VAE_PyTorch.ipynb\" target=\"_parent\"><img src=\"https://colab.research.google.com/assets/colab-badge.svg\" alt=\"Open In Colab\"/></a>"
      ]
    },
    {
      "cell_type": "code",
      "execution_count": 20,
      "metadata": {
        "id": "96363ql4jxaE"
      },
      "outputs": [],
      "source": [
        "import torch\n",
        "import torch.nn as nn\n",
        "from tqdm import tqdm\n",
        "import torch.optim as optim\n",
        "import torch.nn.functional as F\n",
        "from torchvision import transforms\n",
        "import torchvision.datasets as datasets\n",
        "from torch.utils.data import DataLoader"
      ]
    },
    {
      "cell_type": "code",
      "source": [
        "device = \"cuda\" if torch.cuda.is_available() else \"cpu\"\n",
        "lr = 3e-4\n",
        "z_dim = 20\n",
        "h_dim = 200\n",
        "input_dim = 784\n",
        "batch_size = 32\n",
        "num_epochs = 10"
      ],
      "metadata": {
        "id": "6U4yTSiAzlCp"
      },
      "execution_count": 21,
      "outputs": []
    },
    {
      "cell_type": "code",
      "source": [
        "class VariationalAutoEncoder(nn.Module):\n",
        "  def __init__(self, input_dim, h_dim, z_dim):\n",
        "    super().__init__()\n",
        "\n",
        "    self.img_dim_to_h_dim = nn.Linear(input_dim, h_dim)\n",
        "    self.h_dim_to_mean = nn.Linear(h_dim, z_dim)\n",
        "    self.h_dim_to_deviation = nn.Linear(h_dim, z_dim)\n",
        "\n",
        "    self.z_dim_to_hid_dim = nn.Linear(z_dim, h_dim)\n",
        "    self.hid_dim_to_img_dim = nn.Linear(h_dim, input_dim)\n",
        "\n",
        "    self.ReLU = nn.ReLU()\n",
        "\n",
        "  def encoder(self, x):\n",
        "    h = self.ReLU(self.img_dim_to_h_dim(x))\n",
        "    mean = self.h_dim_to_mean(h)\n",
        "    deviation = self.h_dim_to_deviation(h)\n",
        "    return mean, deviation\n",
        "\n",
        "  def decoder(self, z):\n",
        "    h = self.ReLU(self.z_dim_to_hid_dim(z))\n",
        "    img = torch.sigmoid(self.hid_dim_to_img_dim(h))\n",
        "    return img\n",
        "\n",
        "  def forward(self, x):\n",
        "    mean, deviation = self.encoder(x)\n",
        "    z = mean + deviation * (torch.randn_like(deviation))\n",
        "    x_new = self.decoder(z)\n",
        "    return x_new, mean, deviation"
      ],
      "metadata": {
        "id": "wj-b5TWNndvC"
      },
      "execution_count": 22,
      "outputs": []
    },
    {
      "cell_type": "code",
      "source": [
        "transforms = transforms.Compose([\n",
        "    transforms.ToTensor()\n",
        "])\n",
        "dataset = datasets.MNIST(root='dataset/', train=True, transform=transforms, download=True)\n",
        "train_loader = DataLoader(dataset, batch_size=batch_size, shuffle=True)\n",
        "model = VariationalAutoEncoder(input_dim, h_dim, z_dim).to(device)\n",
        "optim = optim.Adam(model.parameters(), lr=lr)\n",
        "criterion = nn.BCELoss()"
      ],
      "metadata": {
        "id": "yky7XeWVBJ9g"
      },
      "execution_count": 23,
      "outputs": []
    },
    {
      "cell_type": "code",
      "source": [
        "# if __name__ == \"__main__\":\n",
        "#   x = torch.randn(4, 28*28)\n",
        "#   vae = VariationalAutoEncoder(input_dim, h_dim, z_dim)\n",
        "#   x_mod, mean, deviation = vae(x)"
      ],
      "metadata": {
        "id": "LsselPj-wNex"
      },
      "execution_count": null,
      "outputs": []
    },
    {
      "cell_type": "code",
      "source": [
        "for epoch in range(num_epochs):\n",
        "  model.train()\n",
        "  running_loss = 0.0\n",
        "  # loop = tqdm(enumerate(train_loader))\n",
        "  for idx, (img, _) in enumerate(train_loader):\n",
        "    batch_size = img.shape[0]\n",
        "    img = img.to(device).view(batch_size, input_dim)\n",
        "    img_mod, mean, deviation = model(img)\n",
        "\n",
        "    loss = criterion(img_mod, img)\n",
        "    kl_divergence = - torch.sum(1 + torch.log(deviation.pow(2)) - mean.pow(2) - deviation.pow(2))\n",
        "\n",
        "    loss = loss + kl_divergence\n",
        "    optim.zero_grad()\n",
        "    loss.backward()\n",
        "    optim.step()\n",
        "    running_loss += loss.item()\n",
        "\n",
        "    # if (idx + 1) % 10 == 0:\n",
        "    #         print(f\"Epoch [{epoch + 1}/{num_epochs}], Iteration [{idx + 1}/{len(train_loader)}], Loss: {loss.item():.4f}\")\n",
        "\n",
        "  print(f\"Epoch [{epoch + 1}/{num_epochs}], Loss: {running_loss / len(train_loader):.4f}\")\n"
      ],
      "metadata": {
        "id": "STRZjin9UsHZ",
        "colab": {
          "base_uri": "https://localhost:8080/"
        },
        "outputId": "e2bdcb93-e1a2-4a35-a3a8-2ddcbb05a476"
      },
      "execution_count": 27,
      "outputs": [
        {
          "output_type": "stream",
          "name": "stdout",
          "text": [
            "Epoch [1/10], Loss: 0.2859\n",
            "Epoch [2/10], Loss: 0.2965\n",
            "Epoch [3/10], Loss: 0.2821\n",
            "Epoch [4/10], Loss: 0.2914\n",
            "Epoch [5/10], Loss: 0.2911\n",
            "Epoch [6/10], Loss: 0.2855\n",
            "Epoch [7/10], Loss: 0.2831\n",
            "Epoch [8/10], Loss: 0.2826\n",
            "Epoch [9/10], Loss: 0.2836\n",
            "Epoch [10/10], Loss: 0.2881\n"
          ]
        }
      ]
    },
    {
      "cell_type": "code",
      "source": [],
      "metadata": {
        "id": "wFb3G46JM2Fn"
      },
      "execution_count": null,
      "outputs": []
    }
  ]
}